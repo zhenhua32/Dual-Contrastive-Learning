{
 "cells": [
  {
   "cell_type": "code",
   "execution_count": 3,
   "metadata": {},
   "outputs": [],
   "source": [
    "import json\n",
    "import os\n",
    "import pandas as pd"
   ]
  },
  {
   "cell_type": "code",
   "execution_count": 4,
   "metadata": {},
   "outputs": [],
   "source": [
    "# 将 tnews 的数据转换成需要的格式\n",
    "train_file = r\"D:\\code\\github\\py_nlp_classify\\clue_data\\tnews_public\\train.json\"\n",
    "dev_file = r\"D:\\code\\github\\py_nlp_classify\\clue_data\\tnews_public\\dev.json\"\n",
    "label_file = r\"D:\\code\\github\\py_nlp_classify\\clue_data\\tnews_public\\labels.json\""
   ]
  },
  {
   "cell_type": "code",
   "execution_count": 5,
   "metadata": {},
   "outputs": [
    {
     "name": "stdout",
     "output_type": "stream",
     "text": [
      "train:  53360\n",
      "dev:  10000\n",
      "label:  15\n"
     ]
    }
   ],
   "source": [
    "train_list = []\n",
    "dev_list = []\n",
    "label_list = []\n",
    "with open(train_file, \"r\", encoding=\"utf-8\") as f:\n",
    "    for line in f:\n",
    "        train_list.append(json.loads(line))\n",
    "with open(dev_file, \"r\", encoding=\"utf-8\") as f:\n",
    "    for line in f:\n",
    "        dev_list.append(json.loads(line))\n",
    "with open(label_file, \"r\", encoding=\"utf-8\") as f:\n",
    "    for line in f:\n",
    "        label_list.append(json.loads(line))\n",
    "\n",
    "print(\"train: \", len(train_list))\n",
    "print(\"dev: \", len(dev_list))\n",
    "print(\"label: \", len(label_list))"
   ]
  },
  {
   "cell_type": "code",
   "execution_count": 9,
   "metadata": {},
   "outputs": [],
   "source": [
    "label_mapping = {\n",
    "    \"news_story\": \"故\",\n",
    "    \"news_culture\": \"文\",\n",
    "    \"news_entertainment\": \"娱\",\n",
    "    \"news_sports\": \"体\",\n",
    "    \"news_finance\": \"财\",\n",
    "    \"news_house\": \"房\",\n",
    "    \"news_car\": \"车\",\n",
    "    \"news_edu\": \"教\",\n",
    "    \"news_tech\": \"科\",\n",
    "    \"news_military\": \"军\",\n",
    "    \"news_travel\": \"旅\",\n",
    "    \"news_world\": \"世\",\n",
    "    \"news_stock\": \"股\",\n",
    "    \"news_agriculture\": \"农\",\n",
    "    \"news_game\": \"游\"\n",
    "}"
   ]
  },
  {
   "cell_type": "code",
   "execution_count": 10,
   "metadata": {},
   "outputs": [],
   "source": [
    "with open(\"./data/tnews_Train.json\", \"w\", encoding=\"utf-8\") as f:\n",
    "    data_list = []\n",
    "    for item in train_list:\n",
    "        text = item[\"sentence\"]\n",
    "        label = item[\"label_desc\"]\n",
    "        # 太坑了, 需要转换成单个字符试试看\n",
    "        label = label_mapping[label]\n",
    "        data_list.append({\"text\": text, \"label\": label})\n",
    "    json.dump(data_list, f, ensure_ascii=False, indent=2)\n",
    "\n",
    "with open(\"./data/tnews_Dev.json\", \"w\", encoding=\"utf-8\") as f:\n",
    "    data_list = []\n",
    "    for item in dev_list:\n",
    "        text = item[\"sentence\"]\n",
    "        label = item[\"label_desc\"]\n",
    "        label = label_mapping[label]\n",
    "        data_list.append({\"text\": text, \"label\": label})\n",
    "    json.dump(data_list, f, ensure_ascii=False, indent=2)\n",
    "\n",
    "with open(\"./data/tnews_Label.json\", \"w\", encoding=\"utf-8\") as f:\n",
    "    label_dict = {}\n",
    "    for i, item in enumerate(label_list):\n",
    "        label = item[\"label_desc\"]\n",
    "        label = label_mapping[label]\n",
    "        label_dict[label] = i\n",
    "    json.dump(label_dict, f, ensure_ascii=False, indent=2)"
   ]
  }
 ],
 "metadata": {
  "kernelspec": {
   "display_name": "nlp",
   "language": "python",
   "name": "python3"
  },
  "language_info": {
   "codemirror_mode": {
    "name": "ipython",
    "version": 3
   },
   "file_extension": ".py",
   "mimetype": "text/x-python",
   "name": "python",
   "nbconvert_exporter": "python",
   "pygments_lexer": "ipython3",
   "version": "3.8.12"
  },
  "orig_nbformat": 4
 },
 "nbformat": 4,
 "nbformat_minor": 2
}
